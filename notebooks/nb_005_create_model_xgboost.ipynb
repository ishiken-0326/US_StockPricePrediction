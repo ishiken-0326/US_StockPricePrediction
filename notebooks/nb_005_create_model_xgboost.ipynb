{
 "cells": [
  {
   "cell_type": "code",
   "execution_count": 1,
   "id": "896913cd-7e94-4a40-9c8b-8afd0428e6a3",
   "metadata": {},
   "outputs": [],
   "source": [
    "import datetime as dt\n",
    "\n",
    "import pandas as pd"
   ]
  },
  {
   "cell_type": "code",
   "execution_count": 2,
   "id": "16225438-7154-4507-9de7-a4e84a24b03d",
   "metadata": {},
   "outputs": [],
   "source": [
    "data = pd.read_csv(\"../data/train_data.csv\")\n",
    "data_ori = data.copy()\n",
    "data.iloc[-1, 0] = \"2019/11/24\"\n",
    "data.iloc[-1, :] = data.iloc[-1, :].fillna(0)\n",
    "\n",
    "company_list = pd.read_csv(\"../data/company_list.csv\")"
   ]
  },
  {
   "cell_type": "code",
   "execution_count": 3,
   "id": "64548b02-c75d-4aea-a642-49ceb53d5b4e",
   "metadata": {},
   "outputs": [
    {
     "data": {
      "text/html": [
       "<div>\n",
       "<style scoped>\n",
       "    .dataframe tbody tr th:only-of-type {\n",
       "        vertical-align: middle;\n",
       "    }\n",
       "\n",
       "    .dataframe tbody tr th {\n",
       "        vertical-align: top;\n",
       "    }\n",
       "\n",
       "    .dataframe thead th {\n",
       "        text-align: right;\n",
       "    }\n",
       "</style>\n",
       "<table border=\"1\" class=\"dataframe\">\n",
       "  <thead>\n",
       "    <tr style=\"text-align: right;\">\n",
       "      <th></th>\n",
       "      <th>Date</th>\n",
       "      <th>VGSH</th>\n",
       "      <th>JEF</th>\n",
       "      <th>IVZ</th>\n",
       "      <th>KTCC</th>\n",
       "      <th>FBZ</th>\n",
       "      <th>PLOW</th>\n",
       "      <th>JBK</th>\n",
       "      <th>IAC</th>\n",
       "      <th>IVR</th>\n",
       "      <th>...</th>\n",
       "      <th>ASFI</th>\n",
       "      <th>JTA</th>\n",
       "      <th>MNR</th>\n",
       "      <th>TFSL</th>\n",
       "      <th>GTN</th>\n",
       "      <th>TYG</th>\n",
       "      <th>VIRC</th>\n",
       "      <th>BIS</th>\n",
       "      <th>WOOD</th>\n",
       "      <th>MASI</th>\n",
       "    </tr>\n",
       "  </thead>\n",
       "  <tbody>\n",
       "    <tr>\n",
       "      <th>415</th>\n",
       "      <td>2019/10/27</td>\n",
       "      <td>60.417824</td>\n",
       "      <td>18.853819</td>\n",
       "      <td>16.638926</td>\n",
       "      <td>5.97</td>\n",
       "      <td>15.280874</td>\n",
       "      <td>48.024773</td>\n",
       "      <td>29.00</td>\n",
       "      <td>229.559998</td>\n",
       "      <td>13.800565</td>\n",
       "      <td>...</td>\n",
       "      <td>6.95</td>\n",
       "      <td>11.057277</td>\n",
       "      <td>14.815565</td>\n",
       "      <td>19.043219</td>\n",
       "      <td>16.830000</td>\n",
       "      <td>17.788372</td>\n",
       "      <td>4.01</td>\n",
       "      <td>16.251677</td>\n",
       "      <td>64.136101</td>\n",
       "      <td>147.509995</td>\n",
       "    </tr>\n",
       "    <tr>\n",
       "      <th>416</th>\n",
       "      <td>2019/11/3</td>\n",
       "      <td>60.288853</td>\n",
       "      <td>19.238792</td>\n",
       "      <td>17.527559</td>\n",
       "      <td>6.23</td>\n",
       "      <td>14.581332</td>\n",
       "      <td>51.991562</td>\n",
       "      <td>30.00</td>\n",
       "      <td>219.949997</td>\n",
       "      <td>14.149504</td>\n",
       "      <td>...</td>\n",
       "      <td>10.10</td>\n",
       "      <td>11.200258</td>\n",
       "      <td>14.385562</td>\n",
       "      <td>19.189333</td>\n",
       "      <td>19.980000</td>\n",
       "      <td>17.243061</td>\n",
       "      <td>4.09</td>\n",
       "      <td>16.082491</td>\n",
       "      <td>65.034508</td>\n",
       "      <td>142.949997</td>\n",
       "    </tr>\n",
       "    <tr>\n",
       "      <th>417</th>\n",
       "      <td>2019/11/10</td>\n",
       "      <td>60.397987</td>\n",
       "      <td>18.967628</td>\n",
       "      <td>17.163631</td>\n",
       "      <td>5.96</td>\n",
       "      <td>14.726692</td>\n",
       "      <td>52.336071</td>\n",
       "      <td>28.50</td>\n",
       "      <td>221.820007</td>\n",
       "      <td>13.913970</td>\n",
       "      <td>...</td>\n",
       "      <td>10.25</td>\n",
       "      <td>11.209790</td>\n",
       "      <td>14.543064</td>\n",
       "      <td>19.189333</td>\n",
       "      <td>19.049999</td>\n",
       "      <td>17.111437</td>\n",
       "      <td>3.93</td>\n",
       "      <td>15.754073</td>\n",
       "      <td>65.343956</td>\n",
       "      <td>149.770004</td>\n",
       "    </tr>\n",
       "    <tr>\n",
       "      <th>418</th>\n",
       "      <td>2019/11/17</td>\n",
       "      <td>60.388062</td>\n",
       "      <td>20.636860</td>\n",
       "      <td>17.045601</td>\n",
       "      <td>5.52</td>\n",
       "      <td>14.763033</td>\n",
       "      <td>52.089993</td>\n",
       "      <td>28.74</td>\n",
       "      <td>221.639999</td>\n",
       "      <td>14.044824</td>\n",
       "      <td>...</td>\n",
       "      <td>10.43</td>\n",
       "      <td>11.114470</td>\n",
       "      <td>14.463972</td>\n",
       "      <td>19.267258</td>\n",
       "      <td>19.850000</td>\n",
       "      <td>16.888838</td>\n",
       "      <td>3.68</td>\n",
       "      <td>14.709110</td>\n",
       "      <td>64.635216</td>\n",
       "      <td>153.350006</td>\n",
       "    </tr>\n",
       "    <tr>\n",
       "      <th>419</th>\n",
       "      <td>2019/11/24</td>\n",
       "      <td>0.000000</td>\n",
       "      <td>0.000000</td>\n",
       "      <td>0.000000</td>\n",
       "      <td>0.00</td>\n",
       "      <td>0.000000</td>\n",
       "      <td>0.000000</td>\n",
       "      <td>0.00</td>\n",
       "      <td>0.000000</td>\n",
       "      <td>0.000000</td>\n",
       "      <td>...</td>\n",
       "      <td>0.00</td>\n",
       "      <td>0.000000</td>\n",
       "      <td>0.000000</td>\n",
       "      <td>0.000000</td>\n",
       "      <td>0.000000</td>\n",
       "      <td>0.000000</td>\n",
       "      <td>0.00</td>\n",
       "      <td>0.000000</td>\n",
       "      <td>0.000000</td>\n",
       "      <td>0.000000</td>\n",
       "    </tr>\n",
       "  </tbody>\n",
       "</table>\n",
       "<p>5 rows × 3279 columns</p>\n",
       "</div>"
      ],
      "text/plain": [
       "           Date       VGSH        JEF        IVZ  KTCC        FBZ       PLOW  \\\n",
       "415  2019/10/27  60.417824  18.853819  16.638926  5.97  15.280874  48.024773   \n",
       "416   2019/11/3  60.288853  19.238792  17.527559  6.23  14.581332  51.991562   \n",
       "417  2019/11/10  60.397987  18.967628  17.163631  5.96  14.726692  52.336071   \n",
       "418  2019/11/17  60.388062  20.636860  17.045601  5.52  14.763033  52.089993   \n",
       "419  2019/11/24   0.000000   0.000000   0.000000  0.00   0.000000   0.000000   \n",
       "\n",
       "       JBK         IAC        IVR  ...   ASFI        JTA        MNR  \\\n",
       "415  29.00  229.559998  13.800565  ...   6.95  11.057277  14.815565   \n",
       "416  30.00  219.949997  14.149504  ...  10.10  11.200258  14.385562   \n",
       "417  28.50  221.820007  13.913970  ...  10.25  11.209790  14.543064   \n",
       "418  28.74  221.639999  14.044824  ...  10.43  11.114470  14.463972   \n",
       "419   0.00    0.000000   0.000000  ...   0.00   0.000000   0.000000   \n",
       "\n",
       "          TFSL        GTN        TYG  VIRC        BIS       WOOD        MASI  \n",
       "415  19.043219  16.830000  17.788372  4.01  16.251677  64.136101  147.509995  \n",
       "416  19.189333  19.980000  17.243061  4.09  16.082491  65.034508  142.949997  \n",
       "417  19.189333  19.049999  17.111437  3.93  15.754073  65.343956  149.770004  \n",
       "418  19.267258  19.850000  16.888838  3.68  14.709110  64.635216  153.350006  \n",
       "419   0.000000   0.000000   0.000000  0.00   0.000000   0.000000    0.000000  \n",
       "\n",
       "[5 rows x 3279 columns]"
      ]
     },
     "execution_count": 3,
     "metadata": {},
     "output_type": "execute_result"
    }
   ],
   "source": [
    "data.tail()"
   ]
  },
  {
   "cell_type": "code",
   "execution_count": 4,
   "id": "fcd2af2c-d260-488c-ba70-6bef549433ef",
   "metadata": {},
   "outputs": [],
   "source": [
    "data.iloc[:, 0] = pd.to_datetime(data.iloc[:, 0])"
   ]
  },
  {
   "cell_type": "code",
   "execution_count": 5,
   "id": "b9c846e0-6ddb-4ea9-85f3-554ab1c715a5",
   "metadata": {},
   "outputs": [],
   "source": [
    "data_wide = data.copy()\n",
    "data_wide.index = data_wide.iloc[:, 0]\n",
    "data_wide = data_wide.drop(\"Date\", axis=1)"
   ]
  },
  {
   "cell_type": "code",
   "execution_count": 6,
   "id": "dda5a37f-7702-49dc-a350-03e9485c85f9",
   "metadata": {},
   "outputs": [],
   "source": [
    "from sklearn.preprocessing import LabelEncoder\n",
    "\n",
    "data_columns = data_wide.columns\n",
    "\n",
    "symbols = []\n",
    "symbols += company_list.loc[:, \"Symbol\"].values.tolist()\n",
    "symbols += data_columns.values.tolist()\n",
    "symbols = list(set(symbols))\n",
    "\n",
    "labelEncoder = LabelEncoder()\n",
    "labelEncoder.fit(symbols)\n",
    "data_wide.columns = labelEncoder.transform(data_columns)\n",
    "company_list.loc[:, \"Symbol\"] = labelEncoder.transform(company_list.loc[:, \"Symbol\"])"
   ]
  },
  {
   "cell_type": "code",
   "execution_count": 7,
   "id": "56564e46-4e81-4db0-9ec0-402a3bb8778b",
   "metadata": {},
   "outputs": [],
   "source": [
    "lag1 = data_wide.shift(1)\n",
    "lag2 = data_wide.shift(2)\n",
    "lag3 = data_wide.shift(3)\n",
    "lag4 = data_wide.shift(4)"
   ]
  },
  {
   "cell_type": "code",
   "execution_count": 8,
   "id": "5feb16a6-5a07-4a68-84aa-bd74934ad2fd",
   "metadata": {},
   "outputs": [],
   "source": [
    "ave4 = data_wide.shift(1).rolling(window=4).mean()\n",
    "ave8 = data_wide.shift(1).rolling(window=8).mean()\n",
    "ave10 = data_wide.shift(1).rolling(window=10).mean()\n",
    "ave14 = data_wide.shift(1).rolling(window=14).mean()"
   ]
  },
  {
   "cell_type": "markdown",
   "id": "7270a233-b23c-4bfc-b6f0-4d6364f5ce46",
   "metadata": {},
   "source": [
    "#### あいであ\n",
    "- industryごとにグルーピングして集計したものに対してラグ特徴量の作成する"
   ]
  },
  {
   "cell_type": "code",
   "execution_count": 9,
   "id": "cb30af2f-0972-43c9-be93-593406028394",
   "metadata": {},
   "outputs": [
    {
     "data": {
      "text/html": [
       "<div>\n",
       "<style scoped>\n",
       "    .dataframe tbody tr th:only-of-type {\n",
       "        vertical-align: middle;\n",
       "    }\n",
       "\n",
       "    .dataframe tbody tr th {\n",
       "        vertical-align: top;\n",
       "    }\n",
       "\n",
       "    .dataframe thead th {\n",
       "        text-align: right;\n",
       "    }\n",
       "</style>\n",
       "<table border=\"1\" class=\"dataframe\">\n",
       "  <thead>\n",
       "    <tr style=\"text-align: right;\">\n",
       "      <th></th>\n",
       "      <th>date</th>\n",
       "      <th>symbol</th>\n",
       "      <th>stockPrice</th>\n",
       "    </tr>\n",
       "  </thead>\n",
       "  <tbody>\n",
       "    <tr>\n",
       "      <th>0</th>\n",
       "      <td>2011-11-13</td>\n",
       "      <td>6591</td>\n",
       "      <td>55.942184</td>\n",
       "    </tr>\n",
       "    <tr>\n",
       "      <th>1</th>\n",
       "      <td>2011-11-13</td>\n",
       "      <td>3468</td>\n",
       "      <td>17.649006</td>\n",
       "    </tr>\n",
       "    <tr>\n",
       "      <th>2</th>\n",
       "      <td>2011-11-13</td>\n",
       "      <td>3436</td>\n",
       "      <td>13.770864</td>\n",
       "    </tr>\n",
       "    <tr>\n",
       "      <th>3</th>\n",
       "      <td>2011-11-13</td>\n",
       "      <td>3656</td>\n",
       "      <td>4.770000</td>\n",
       "    </tr>\n",
       "    <tr>\n",
       "      <th>4</th>\n",
       "      <td>2011-11-13</td>\n",
       "      <td>2310</td>\n",
       "      <td>13.818835</td>\n",
       "    </tr>\n",
       "  </tbody>\n",
       "</table>\n",
       "</div>"
      ],
      "text/plain": [
       "        date  symbol  stockPrice\n",
       "0 2011-11-13    6591   55.942184\n",
       "1 2011-11-13    3468   17.649006\n",
       "2 2011-11-13    3436   13.770864\n",
       "3 2011-11-13    3656    4.770000\n",
       "4 2011-11-13    2310   13.818835"
      ]
     },
     "execution_count": 9,
     "metadata": {},
     "output_type": "execute_result"
    }
   ],
   "source": [
    "# data_long = data_wide.stack()\n",
    "data_long = data_wide.stack().reset_index()\n",
    "data_long.columns = [\"date\", \"symbol\", \"stockPrice\"]\n",
    "data_long.head()"
   ]
  },
  {
   "cell_type": "code",
   "execution_count": 10,
   "id": "bb499f01-aa89-441c-8d2b-cca6d96db94f",
   "metadata": {},
   "outputs": [],
   "source": [
    "def wide_to_long(df_wide, columns=[\"date\", \"symbol\", \"stockPrice\"]):\n",
    "    df_long = df_wide.stack().reset_index()\n",
    "    df_long.columns = columns\n",
    "    return df_long"
   ]
  },
  {
   "cell_type": "code",
   "execution_count": 11,
   "id": "5d3b2b41-d240-4a0c-9d82-503862275659",
   "metadata": {},
   "outputs": [],
   "source": [
    "feature_df_list = list(\n",
    "    map(wide_to_long, [lag1, lag2, lag3, lag4, ave4, ave8, ave10, ave14])\n",
    ")"
   ]
  },
  {
   "cell_type": "code",
   "execution_count": 12,
   "id": "76b4e88a-db40-4d6a-955f-af1e4b8456c4",
   "metadata": {},
   "outputs": [
    {
     "name": "stderr",
     "output_type": "stream",
     "text": [
      "/tmp/ipykernel_260/4059174339.py:3: FutureWarning: Passing 'suffixes' which cause duplicate columns {'stockPrice_x'} in the result is deprecated and will raise a MergeError in a future version.\n",
      "  data_long_merged = pd.merge(\n"
     ]
    }
   ],
   "source": [
    "data_long_merged = data_long.copy()\n",
    "for feature_df in feature_df_list:\n",
    "    data_long_merged = pd.merge(\n",
    "        data_long_merged, feature_df, how=\"left\", on=[\"date\", \"symbol\"]\n",
    "    )"
   ]
  },
  {
   "cell_type": "code",
   "execution_count": 13,
   "id": "bbdffcba-a58f-45c6-b777-fa534b747ea3",
   "metadata": {
    "tags": []
   },
   "outputs": [],
   "source": [
    "data_long_merged.columns = [\n",
    "    \"date\",\n",
    "    \"symbol\",\n",
    "    \"stockPrice\",\n",
    "    \"stockPriceLag1\",\n",
    "    \"stockPriceLag2\",\n",
    "    \"stockPriceLag3\",\n",
    "    \"stockPriceLag4\",\n",
    "    \"stockPriceAve4\",\n",
    "    \"stockPriceAve8\",\n",
    "    \"stockPriceAve10\",\n",
    "    \"stockPriceAve14\",\n",
    "]\n",
    "\n",
    "data_long_merged_drop = data_long_merged.dropna(how=\"any\")"
   ]
  },
  {
   "cell_type": "code",
   "execution_count": 68,
   "id": "28277eac-0e73-467c-b8f9-1faef9fe054c",
   "metadata": {},
   "outputs": [],
   "source": [
    "# Industry(業界）のその日の平均株価\n",
    "\n",
    "industry_list = (\n",
    "    company_list.loc[:, [\"Symbol\", \"Industry\"]].dropna(how=\"any\").reset_index(drop=True)\n",
    ")\n",
    "industry_list = industry_list[~industry_list.duplicated(subset='Symbol')]\n",
    "tmp = data_long.loc[:, [\"date\", \"symbol\", \"stockPrice\"]].reset_index(drop=True)\n",
    "\n",
    "stockPrice_group = pd.merge(\n",
    "    tmp, industry_list, left_on=\"symbol\", right_on=\"Symbol\"\n",
    ").groupby([\"date\", \"Industry\"])\n",
    "\n",
    "stockPrice_by_industry_mean = (\n",
    "    pd.DataFrame(stockPrice_group[\"stockPrice\"].mean())\n",
    "    .stack()\n",
    "    .reset_index()\n",
    "    .drop(\"level_2\", axis=1)\n",
    "    .set_index(\"date\")\n",
    ")\n",
    "stockPrice_by_industry_min = (\n",
    "    pd.DataFrame(stockPrice_group[\"stockPrice\"].min())\n",
    "    .stack()\n",
    "    .reset_index()\n",
    "    .drop(\"level_2\", axis=1)\n",
    "    .set_index(\"date\")\n",
    ")\n",
    "stockPrice_by_industry_max = (\n",
    "    pd.DataFrame(stockPrice_group[\"stockPrice\"].max())\n",
    "    .stack()\n",
    "    .reset_index()\n",
    "    .drop(\"level_2\", axis=1)\n",
    "    .set_index(\"date\")\n",
    ")\n",
    "stockPrice_by_industry_median = (\n",
    "    pd.DataFrame(stockPrice_group[\"stockPrice\"].median())\n",
    "    .stack()\n",
    "    .reset_index()\n",
    "    .drop(\"level_2\", axis=1)\n",
    "    .set_index(\"date\")\n",
    ")\n",
    "\n",
    "\n",
    "def long_to_wide(df_input, column=\"Industry\", value=0):\n",
    "    df_wide = df_input.pivot(index=None, columns=column, values=value)\n",
    "    return df_wide\n",
    "\n",
    "\n",
    "def create_lag_features(df_input, column_join_word):\n",
    "    shifts = range(1, 5)\n",
    "    lags = [df_input.shift(s) for s in shifts]\n",
    "    lags = [\n",
    "        wide_to_long(\n",
    "            item, columns=[\"date\", \"industry\", f\"stockPrice_{column_join_word}_lag{c}\"]\n",
    "        )\n",
    "        for item, c in zip(lags, shifts)\n",
    "    ]\n",
    "\n",
    "    windows = [4, 8, 10, 14]\n",
    "    aves = [df_input.shift(1).rolling(window=w).mean() for w in windows]\n",
    "    aves = [\n",
    "        wide_to_long(\n",
    "            item, columns=[\"date\", \"industry\", f\"stockPrice_{column_join_word}_ave{c}\"]\n",
    "        )\n",
    "        for item, c in zip(aves, windows)\n",
    "    ]\n",
    "\n",
    "    return lags + aves\n",
    "\n",
    "\n",
    "stockPrice_by_industry_lagFetures = []\n",
    "stockPrice_by_industry_lagFetures.append(\n",
    "    create_lag_features(long_to_wide(stockPrice_by_industry_mean), \"mean\")\n",
    ")\n",
    "stockPrice_by_industry_lagFetures.append(\n",
    "    create_lag_features(long_to_wide(stockPrice_by_industry_min), \"min\")\n",
    ")\n",
    "stockPrice_by_industry_lagFetures.append(\n",
    "    create_lag_features(long_to_wide(stockPrice_by_industry_max), \"max\")\n",
    ")\n",
    "stockPrice_by_industry_lagFetures.append(\n",
    "    create_lag_features(long_to_wide(stockPrice_by_industry_median), \"median\")\n",
    ")\n",
    "stockPrice_by_industry_lagFetures = [\n",
    "    item for l in stockPrice_by_industry_lagFetures for item in l\n",
    "]"
   ]
  },
  {
   "cell_type": "code",
   "execution_count": 70,
   "id": "2e103b48-104c-4294-9aae-204fe619e23b",
   "metadata": {},
   "outputs": [
    {
     "name": "stdout",
     "output_type": "stream",
     "text": [
      "(1330868, 11)\n",
      "(1330868, 12)\n",
      "(1330868, 44)\n"
     ]
    }
   ],
   "source": [
    "print(data_long_merged_drop.shape)\n",
    "data = pd.merge(\n",
    "    data_long_merged_drop, industry_list, left_on=\"symbol\", right_on=\"Symbol\", how='left'\n",
    ").drop(\"Symbol\", axis=1)\n",
    "data = data.rename(columns={'Industry': 'industry'})\n",
    "print(data.shape)\n",
    "\n",
    "for feature_df in stockPrice_by_industry_lagFetures:\n",
    "    data = pd.merge(\n",
    "        data,\n",
    "        feature_df,\n",
    "        on=[\"date\", \"industry\"],\n",
    "        how=\"left\",\n",
    "    )\n",
    "\n",
    "labelEncoder_industry = LabelEncoder()\n",
    "data.loc[:, 'industry'] = labelEncoder_industry.fit_transform(data.loc[:, 'industry'])\n",
    "print(data.shape)"
   ]
  },
  {
   "cell_type": "code",
   "execution_count": 71,
   "id": "5e7d69f6-9ed1-44e0-86ed-5bd64f914a74",
   "metadata": {},
   "outputs": [],
   "source": [
    "# 学習データ, テストデータ(コンペでの予測対象のデータ)に分割\n",
    "splitDate = dt.datetime.strptime(\"2019-11-24\", \"%Y-%m-%d\")\n",
    "test = data[data[\"date\"] >= splitDate]\n",
    "train = data[data[\"date\"] < splitDate]\n",
    "\n",
    "# 学習データ, validationデータに分割. 学習データのうち、最新1ヶ月をvalidationデータにする\n",
    "splitDate = max(train.iloc[:, 0]) - dt.timedelta(days=28)\n",
    "val = train[train[\"date\"] > splitDate]\n",
    "train = train[train[\"date\"] <= splitDate]"
   ]
  },
  {
   "cell_type": "code",
   "execution_count": 72,
   "id": "472e82a8-f818-40da-a046-c10f0441d2f2",
   "metadata": {},
   "outputs": [],
   "source": [
    "train_x = train.drop([\"date\", \"stockPrice\"], axis=1)\n",
    "train_y = train[\"stockPrice\"]\n",
    "val_x = val.drop([\"date\", \"stockPrice\"], axis=1)\n",
    "val_y = val[\"stockPrice\"]\n",
    "test_x = test.drop([\"date\", \"stockPrice\"], axis=1)\n",
    "test_y = test[\"stockPrice\"]"
   ]
  },
  {
   "cell_type": "code",
   "execution_count": 73,
   "id": "4c5abcd3-9bb8-4bc7-8af9-c74107474ae8",
   "metadata": {},
   "outputs": [],
   "source": [
    "import xgboost as xgb"
   ]
  },
  {
   "cell_type": "code",
   "execution_count": 74,
   "id": "648f34fc-1d86-41f4-aecf-aeadf265f094",
   "metadata": {},
   "outputs": [
    {
     "name": "stdout",
     "output_type": "stream",
     "text": [
      "[0]\ttrain-mae:21.64202\teval-mae:29.19699\n",
      "[1]\ttrain-mae:15.15658\teval-mae:20.50580\n",
      "[2]\ttrain-mae:10.61579\teval-mae:14.42672\n",
      "[3]\ttrain-mae:7.43842\teval-mae:10.16879\n",
      "[4]\ttrain-mae:5.22200\teval-mae:7.19898\n",
      "[5]\ttrain-mae:3.68552\teval-mae:5.13747\n",
      "[6]\ttrain-mae:2.63495\teval-mae:3.71524\n",
      "[7]\ttrain-mae:1.93796\teval-mae:2.74542\n",
      "[8]\ttrain-mae:1.49621\teval-mae:2.10982\n",
      "[9]\ttrain-mae:1.23099\teval-mae:1.70994\n",
      "[10]\ttrain-mae:1.07960\teval-mae:1.46784\n",
      "[11]\ttrain-mae:0.99645\teval-mae:1.32621\n",
      "[12]\ttrain-mae:0.95201\teval-mae:1.24651\n",
      "[13]\ttrain-mae:0.92855\teval-mae:1.19938\n",
      "[14]\ttrain-mae:0.91623\teval-mae:1.17101\n",
      "[15]\ttrain-mae:0.90950\teval-mae:1.15581\n",
      "[16]\ttrain-mae:0.90550\teval-mae:1.14541\n",
      "[17]\ttrain-mae:0.90343\teval-mae:1.13966\n",
      "[18]\ttrain-mae:0.90220\teval-mae:1.13729\n",
      "[19]\ttrain-mae:0.90138\teval-mae:1.13546\n",
      "[20]\ttrain-mae:0.90069\teval-mae:1.13462\n",
      "[21]\ttrain-mae:0.90054\teval-mae:1.13414\n",
      "[22]\ttrain-mae:0.90007\teval-mae:1.13348\n",
      "[23]\ttrain-mae:0.89975\teval-mae:1.13336\n",
      "[24]\ttrain-mae:0.89958\teval-mae:1.13312\n",
      "[25]\ttrain-mae:0.89939\teval-mae:1.13300\n",
      "[26]\ttrain-mae:0.89862\teval-mae:1.13488\n",
      "[27]\ttrain-mae:0.89830\teval-mae:1.13496\n",
      "[28]\ttrain-mae:0.89804\teval-mae:1.13509\n",
      "[29]\ttrain-mae:0.89773\teval-mae:1.13532\n",
      "[30]\ttrain-mae:0.89752\teval-mae:1.13549\n",
      "[31]\ttrain-mae:0.89683\teval-mae:1.13503\n",
      "[32]\ttrain-mae:0.89612\teval-mae:1.13576\n",
      "[33]\ttrain-mae:0.89586\teval-mae:1.13535\n",
      "[34]\ttrain-mae:0.89562\teval-mae:1.13550\n",
      "[35]\ttrain-mae:0.89526\teval-mae:1.13508\n"
     ]
    }
   ],
   "source": [
    "train_data = xgb.DMatrix(train_x, label=train_y)\n",
    "eval_data = xgb.DMatrix(val_x, label=val_y)\n",
    "test_data = xgb.DMatrix(test_x, label=test_y)\n",
    "\n",
    "xgb_params = {\"objective\": \"reg:squarederror\", \"eval_metric\": \"mae\"}\n",
    "evals = [(train_data, \"train\"), (eval_data, \"eval\")]\n",
    "\n",
    "gbm = xgb.train(\n",
    "    xgb_params,\n",
    "    train_data,\n",
    "    num_boost_round=100,\n",
    "    early_stopping_rounds=10,\n",
    "    evals=evals,\n",
    ")"
   ]
  },
  {
   "cell_type": "code",
   "execution_count": 79,
   "id": "b05dbbff-2e83-4be3-92d0-344ca4465be1",
   "metadata": {},
   "outputs": [
    {
     "data": {
      "text/plain": [
       "((13112,), (13112,))"
      ]
     },
     "execution_count": 79,
     "metadata": {},
     "output_type": "execute_result"
    }
   ],
   "source": [
    "predict_y = gbm.predict(eval_data)\n",
    "predict_y.shape, val_y.shape"
   ]
  },
  {
   "cell_type": "code",
   "execution_count": 80,
   "id": "f336c9d7-d4aa-464e-b8a1-b1172d7ac763",
   "metadata": {},
   "outputs": [
    {
     "data": {
      "text/plain": [
       "7.12583213183696"
      ]
     },
     "execution_count": 80,
     "metadata": {},
     "output_type": "execute_result"
    }
   ],
   "source": [
    "from sklearn.metrics import mean_squared_error\n",
    "\n",
    "mean_squared_error(predict_y, val_y)"
   ]
  },
  {
   "cell_type": "code",
   "execution_count": 81,
   "id": "ebe295b2-af49-4308-abb0-dbbd3b100ccd",
   "metadata": {},
   "outputs": [
    {
     "data": {
      "text/html": [
       "<div>\n",
       "<style scoped>\n",
       "    .dataframe tbody tr th:only-of-type {\n",
       "        vertical-align: middle;\n",
       "    }\n",
       "\n",
       "    .dataframe tbody tr th {\n",
       "        vertical-align: top;\n",
       "    }\n",
       "\n",
       "    .dataframe thead th {\n",
       "        text-align: right;\n",
       "    }\n",
       "</style>\n",
       "<table border=\"1\" class=\"dataframe\">\n",
       "  <thead>\n",
       "    <tr style=\"text-align: right;\">\n",
       "      <th></th>\n",
       "      <th>id</th>\n",
       "      <th>y</th>\n",
       "    </tr>\n",
       "  </thead>\n",
       "  <tbody>\n",
       "    <tr>\n",
       "      <th>0</th>\n",
       "      <td>VGSH</td>\n",
       "      <td>60.395943</td>\n",
       "    </tr>\n",
       "    <tr>\n",
       "      <th>1</th>\n",
       "      <td>JEF</td>\n",
       "      <td>20.484234</td>\n",
       "    </tr>\n",
       "    <tr>\n",
       "      <th>2</th>\n",
       "      <td>IVZ</td>\n",
       "      <td>17.016321</td>\n",
       "    </tr>\n",
       "    <tr>\n",
       "      <th>3</th>\n",
       "      <td>KTCC</td>\n",
       "      <td>5.578807</td>\n",
       "    </tr>\n",
       "    <tr>\n",
       "      <th>4</th>\n",
       "      <td>FBZ</td>\n",
       "      <td>14.557187</td>\n",
       "    </tr>\n",
       "  </tbody>\n",
       "</table>\n",
       "</div>"
      ],
      "text/plain": [
       "     id          y\n",
       "0  VGSH  60.395943\n",
       "1   JEF  20.484234\n",
       "2   IVZ  17.016321\n",
       "3  KTCC   5.578807\n",
       "4   FBZ  14.557187"
      ]
     },
     "execution_count": 81,
     "metadata": {},
     "output_type": "execute_result"
    }
   ],
   "source": [
    "predict_result = gbm.predict(test_data)\n",
    "result = pd.DataFrame(\n",
    "    [labelEncoder.inverse_transform(test[\"symbol\"]), predict_result]\n",
    ").T\n",
    "result.columns = [\"id\", \"y\"]\n",
    "result.head()"
   ]
  },
  {
   "cell_type": "code",
   "execution_count": 82,
   "id": "139dfc2a-c63f-460b-aa7f-ad21e952e268",
   "metadata": {},
   "outputs": [
    {
     "data": {
      "text/plain": [
       "(0.2678117, (3278, 2))"
      ]
     },
     "execution_count": 82,
     "metadata": {},
     "output_type": "execute_result"
    }
   ],
   "source": [
    "result[\"y\"].min(), result.shape"
   ]
  },
  {
   "cell_type": "code",
   "execution_count": 83,
   "id": "c0e52386-f9da-4b19-988c-db90ddf7c942",
   "metadata": {},
   "outputs": [],
   "source": [
    "result.to_csv(\"../data/predict/nb_005_xgboost.csv\", index=False)"
   ]
  },
  {
   "cell_type": "code",
   "execution_count": null,
   "id": "c8c407ef-913c-4c8d-b4e9-c9693150dae2",
   "metadata": {},
   "outputs": [],
   "source": []
  }
 ],
 "metadata": {
  "kernelspec": {
   "display_name": "Python 3 (ipykernel)",
   "language": "python",
   "name": "python3"
  },
  "language_info": {
   "codemirror_mode": {
    "name": "ipython",
    "version": 3
   },
   "file_extension": ".py",
   "mimetype": "text/x-python",
   "name": "python",
   "nbconvert_exporter": "python",
   "pygments_lexer": "ipython3",
   "version": "3.9.6"
  }
 },
 "nbformat": 4,
 "nbformat_minor": 5
}
